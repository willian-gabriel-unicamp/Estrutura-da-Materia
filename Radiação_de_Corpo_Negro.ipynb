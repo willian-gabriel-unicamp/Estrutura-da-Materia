{
  "nbformat": 4,
  "nbformat_minor": 0,
  "metadata": {
    "colab": {
      "name": "Radiação de Corpo Negro.ipynb",
      "provenance": [],
      "authorship_tag": "ABX9TyNu+gv+UB2Ikz9Joxvm9zJ2",
      "include_colab_link": true
    },
    "kernelspec": {
      "name": "python3",
      "display_name": "Python 3"
    }
  },
  "cells": [
    {
      "cell_type": "markdown",
      "metadata": {
        "id": "view-in-github",
        "colab_type": "text"
      },
      "source": [
        "<a href=\"https://colab.research.google.com/github/willian-gabriel-unicamp/Estrutura-da-Materia/blob/main/Radia%C3%A7%C3%A3o_de_Corpo_Negro.ipynb\" target=\"_parent\"><img src=\"https://colab.research.google.com/assets/colab-badge.svg\" alt=\"Open In Colab\"/></a>"
      ]
    },
    {
      "cell_type": "code",
      "metadata": {
        "id": "6jQzb2TauUIl",
        "colab": {
          "base_uri": "https://localhost:8080/",
          "height": 302
        },
        "outputId": "8b0c9423-3278-44a2-ceb8-50f754ee0874"
      },
      "source": [
        "import matplotlib.pyplot as plt\n",
        "import numpy as np\n",
        "from math import *\n",
        "\n",
        "h=6.6256*10**-34\n",
        "c=299792458\n",
        "k=1.380649*10**-23\n",
        "\n",
        "def planck(wav, T):\n",
        "    a = (2.0*pi*h*wav**3)/c**2\n",
        "    b = h*wav/(k*T)\n",
        "    intensity = a/ ( (np.exp(b) - 1.0) )\n",
        "    return intensity\n",
        "\n",
        "# generate x-axis in increments from 1nm to 3 micrometer in 1 nm increments\n",
        "# starting at 1 nm to avoid wav = 0, which would result in division by zero.\n",
        "wavelengths = np.arange(1*10**-9, 3*10**-6, 1*10**-9) \n",
        "\n",
        "# intensity at 4000K, 5000K, 6000K, 7000K\n",
        "intensity4000 = planck(wavelengths, 4000.)\n",
        "intensity5000 = planck(wavelengths, 5000.)\n",
        "intensity6000 = planck(wavelengths, 6000.)\n",
        "intensity7000 = planck(wavelengths, 7000.)\n",
        "\n",
        "plt.plot(wavelengths*1e9, intensity4000, 'red') \n",
        "# plot intensity4000 versus wavelength in nm as a red line\n",
        "plt.plot(wavelengths*1e9, intensity5000, 'green') # 5000K green line\n",
        "plt.plot(wavelengths*1e9, intensity6000, 'blue') # 6000K blue line\n",
        "plt.plot(wavelengths*1e9, intensity7000, 'black') # 7000K black line\n",
        "\n",
        "# show the plot\n",
        "plt.show()"
      ],
      "execution_count": null,
      "outputs": [
        {
          "output_type": "stream",
          "text": [
            "/usr/local/lib/python3.6/dist-packages/ipykernel_launcher.py:12: RuntimeWarning: divide by zero encountered in true_divide\n",
            "  if sys.path[0] == '':\n"
          ],
          "name": "stderr"
        },
        {
          "output_type": "display_data",
          "data": {
            "image/png": "[encoded data removed]",
            "text/plain": [
              "<Figure size 432x288 with 1 Axes>"
            ]
          },
          "metadata": {
            "tags": [],
            "needs_background": "light"
          }
        }
      ]
    },
    {
      "cell_type": "code",
      "metadata": {
        "id": "fcBeU63UzHeg"
      },
      "source": [
        "def cnegro(T):\n",
        "  import matplotlib.pyplot as plt\n",
        "  import numpy as np\n",
        "  h=6.6256*10**(-34)\n",
        "  c=299792458\n",
        "  k=1.380649*10**-23\n",
        "  x=np.arange(1,8*10**4,1*10**4)\n",
        "  y=[]\n",
        "  for i in range(len(x)) :\n",
        "    t=8*pi*h*c/(x[i]**5 * (e**(h*c/x[i]*k*T) -1))\n",
        "    y.append(t)\n",
        "    print(y)"
      ],
      "execution_count": null,
      "outputs": []
    },
    {
      "cell_type": "code",
      "metadata": {
        "id": "qw_fmEq04hg7",
        "colab": {
          "base_uri": "https://localhost:8080/",
          "height": 364
        },
        "outputId": "820098be-258e-47d8-b74e-afdd1edf4419"
      },
      "source": [
        "import matplotlib.pyplot as plt\n",
        "import numpy as np\n",
        "from math import *\n",
        "\n",
        "h=6.6256*10**-34\n",
        "c=299792458\n",
        "k=1.380649*10**-23\n",
        "\n",
        "def planckwav(wav, T):\n",
        "    a = (8.0*pi*h*c*2)\n",
        "    b = h*wav/(wav*k*T)\n",
        "    intensity = a/wav**5 * ( (np.exp(b) - 1.0) )\n",
        "    return intensity\n",
        "\n",
        "# generate x-axis in increments from 1nm to 3 micrometer in 1 nm increments\n",
        "# starting at 1 nm to avoid wav = 0, which would result in division by zero.\n",
        "wavelengths = np.linspace(0, 4e23)\n",
        "\n",
        "# intensity at 4000K, 5000K, 6000K, 7000K\n",
        "intensity4000 = planckwav(wavelengths, 4000.)\n",
        "intensity5000 = planckwav(wavelengths, 5000.)\n",
        "intensity6000 = planckwav(wavelengths, 6000.)\n",
        "intensity7000 = planckwav(wavelengths, 7000.)\n",
        "\n",
        "plt.plot(wavelengths*1e9, intensity4000, 'red') \n",
        "# plot intensity4000 versus wavelength in nm as a red line\n",
        "plt.plot(wavelengths*1e9, intensity5000, 'green') # 5000K green line\n",
        "plt.plot(wavelengths*1e9, intensity6000, 'blue') # 6000K blue line\n",
        "plt.plot(wavelengths*1e9, intensity7000, 'black') # 7000K black line\n",
        "\n",
        "# show the plot\n",
        "plt.show()"
      ],
      "execution_count": null,
      "outputs": [
        {
          "output_type": "stream",
          "text": [
            "/usr/local/lib/python3.6/dist-packages/ipykernel_launcher.py:11: RuntimeWarning: invalid value encountered in true_divide\n",
            "  # This is added back by InteractiveShellApp.init_path()\n",
            "/usr/local/lib/python3.6/dist-packages/ipykernel_launcher.py:12: RuntimeWarning: divide by zero encountered in true_divide\n",
            "  if sys.path[0] == '':\n"
          ],
          "name": "stderr"
        },
        {
          "output_type": "display_data",
          "data": {
            "image/png": "[encoded data removed]",
            "text/plain": [
              "<Figure size 432x288 with 1 Axes>"
            ]
          },
          "metadata": {
            "tags": [],
            "needs_background": "light"
          }
        }
      ]
    },
    {
      "cell_type": "code",
      "metadata": {
        "id": "M07FuaTh4lVq"
      },
      "source": [
        ""
      ],
      "execution_count": null,
      "outputs": []
    },
    {
      "cell_type": "code",
      "metadata": {
        "id": "3JAIsQRf8kXh",
        "colab": {
          "base_uri": "https://localhost:8080/",
          "height": 333
        },
        "outputId": "58fe012c-e153-4f22-f616-120b62a82e92"
      },
      "source": [
        "import matplotlib.pyplot as plt\n",
        "import numpy as np\n",
        "\n",
        "h = 6.626e-34\n",
        "c = 3.0e+8\n",
        "k = 1.38e-23\n",
        "\n",
        "def planck(wav, T):\n",
        "    a = 8.0*pi*h*c\n",
        "    b = h*c/(wav*k*T)\n",
        "    intensity = a/ ( (wav**5) * (np.exp(b) - 1.0) )\n",
        "    return intensity\n",
        "\n",
        "# generate x-axis in increments from 1nm to 3 micrometer in 1 nm increments\n",
        "# starting at 1 nm to avoid wav = 0, which would result in division by zero.\n",
        "wavelengths = np.arange(1e-9, 3e-6, 1e-9) \n",
        "\n",
        "# intensity at 4000K, 5000K, 6000K, 7000K\n",
        "intensity4000 = planck(wavelengths, 4000.)\n",
        "intensity5000 = planck(wavelengths, 5000.)\n",
        "intensity6000 = planck(wavelengths, 6000.)\n",
        "intensity7000 = planck(wavelengths, 7000.)\n",
        "\n",
        "plt.xlabel(\"Frequência (nm)\")\n",
        "plt.ylabel(\"Densidade de Energia ($GW/m^{2} nm$) \")\n",
        "\n",
        "plt.plot(wavelengths*1e9, intensity4000, 'r-',label='T=4000K') \n",
        "# plot intensity4000 versus wavelength in nm as a red line\n",
        "plt.plot(wavelengths*1e9, intensity5000, 'g-',label='T=5000K') # 5000K green line\n",
        "plt.plot(wavelengths*1e9, intensity6000, 'b-',label='T=6000K') # 6000K blue line\n",
        "plt.plot(wavelengths*1e9, intensity7000, 'k-',label='T=7000K') # 7000K black line\n",
        "\n",
        "plt.legend(loc='upper right')\n",
        "plt.title(\"Radiação de Corpo Negro\")\n",
        "plt.grid(True)\n",
        "# show the plot\n",
        "plt.show()"
      ],
      "execution_count": null,
      "outputs": [
        {
          "output_type": "stream",
          "text": [
            "/usr/local/lib/python3.6/dist-packages/ipykernel_launcher.py:11: RuntimeWarning: overflow encountered in exp\n",
            "  # This is added back by InteractiveShellApp.init_path()\n"
          ],
          "name": "stderr"
        },
        {
          "output_type": "display_data",
          "data": {
            "image/png": "[encoded data removed]",
            "text/plain": [
              "<Figure size 432x288 with 1 Axes>"
            ]
          },
          "metadata": {
            "tags": [],
            "needs_background": "light"
          }
        }
      ]
    },
    {
      "cell_type": "code",
      "metadata": {
        "id": "uPCN-9UlNVwm"
      },
      "source": [
        "x=1e9"
      ],
      "execution_count": null,
      "outputs": []
    },
    {
      "cell_type": "code",
      "metadata": {
        "id": "CTRMGxNbggSj",
        "colab": {
          "base_uri": "https://localhost:8080/"
        },
        "outputId": "21f2de37-b1cc-476c-a32e-36fcb6bce581"
      },
      "source": [
        ""
      ],
      "execution_count": null,
      "outputs": [
        {
          "output_type": "execute_result",
          "data": {
            "text/plain": [
              "1000000000.0"
            ]
          },
          "metadata": {
            "tags": []
          },
          "execution_count": 73
        }
      ]
    },
    {
      "cell_type": "code",
      "metadata": {
        "id": "HuWPaXSVghRe"
      },
      "source": [
        ""
      ],
      "execution_count": null,
      "outputs": []
    }
  ]
}